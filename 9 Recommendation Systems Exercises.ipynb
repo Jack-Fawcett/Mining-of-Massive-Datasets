{
 "cells": [
  {
   "cell_type": "code",
   "execution_count": 3,
   "metadata": {},
   "outputs": [],
   "source": [
    "import numpy as np\n",
    "import pandas as pd\n",
    "from itertools import combinations\n",
    "import math, statistics "
   ]
  },
  {
   "cell_type": "code",
   "execution_count": 101,
   "metadata": {},
   "outputs": [],
   "source": [
    "np.set_printoptions(precision=2)"
   ]
  },
  {
   "cell_type": "markdown",
   "metadata": {},
   "source": [
    "## 9.3 Collaborative Filtering"
   ]
  },
  {
   "cell_type": "markdown",
   "metadata": {},
   "source": [
    "### 9.3.1: The below matrix represents the ratings, on a 1-5 star scale, of eight items, a through h, by three users A, B, and C. Compute the following from the data of this matrix."
   ]
  },
  {
   "cell_type": "code",
   "execution_count": 5,
   "metadata": {},
   "outputs": [],
   "source": [
    "utilityMatrix = np.array([[4, 5, None, 5, 1, None, 3, 2], \n",
    "                           [None, 3, 4, 3, 1, 2, 1, None],\n",
    "                           [2, None, 1, 3, None, 4, 5, 3]], dtype=np.float)\n",
    "items = ['a', 'b', 'c', 'd', 'e', 'f', 'g', 'h']\n",
    "users = ['A', 'B', 'C']"
   ]
  },
  {
   "cell_type": "code",
   "execution_count": 6,
   "metadata": {},
   "outputs": [
    {
     "data": {
      "text/html": [
       "<div>\n",
       "<style scoped>\n",
       "    .dataframe tbody tr th:only-of-type {\n",
       "        vertical-align: middle;\n",
       "    }\n",
       "\n",
       "    .dataframe tbody tr th {\n",
       "        vertical-align: top;\n",
       "    }\n",
       "\n",
       "    .dataframe thead th {\n",
       "        text-align: right;\n",
       "    }\n",
       "</style>\n",
       "<table border=\"1\" class=\"dataframe\">\n",
       "  <thead>\n",
       "    <tr style=\"text-align: right;\">\n",
       "      <th></th>\n",
       "      <th>a</th>\n",
       "      <th>b</th>\n",
       "      <th>c</th>\n",
       "      <th>d</th>\n",
       "      <th>e</th>\n",
       "      <th>f</th>\n",
       "      <th>g</th>\n",
       "      <th>h</th>\n",
       "    </tr>\n",
       "  </thead>\n",
       "  <tbody>\n",
       "    <tr>\n",
       "      <th>A</th>\n",
       "      <td>4.0</td>\n",
       "      <td>5.0</td>\n",
       "      <td>NaN</td>\n",
       "      <td>5.0</td>\n",
       "      <td>1.0</td>\n",
       "      <td>NaN</td>\n",
       "      <td>3.0</td>\n",
       "      <td>2.0</td>\n",
       "    </tr>\n",
       "    <tr>\n",
       "      <th>B</th>\n",
       "      <td>NaN</td>\n",
       "      <td>3.0</td>\n",
       "      <td>4.0</td>\n",
       "      <td>3.0</td>\n",
       "      <td>1.0</td>\n",
       "      <td>2.0</td>\n",
       "      <td>1.0</td>\n",
       "      <td>NaN</td>\n",
       "    </tr>\n",
       "    <tr>\n",
       "      <th>C</th>\n",
       "      <td>2.0</td>\n",
       "      <td>NaN</td>\n",
       "      <td>1.0</td>\n",
       "      <td>3.0</td>\n",
       "      <td>NaN</td>\n",
       "      <td>4.0</td>\n",
       "      <td>5.0</td>\n",
       "      <td>3.0</td>\n",
       "    </tr>\n",
       "  </tbody>\n",
       "</table>\n",
       "</div>"
      ],
      "text/plain": [
       "     a    b    c    d    e    f    g    h\n",
       "A  4.0  5.0  NaN  5.0  1.0  NaN  3.0  2.0\n",
       "B  NaN  3.0  4.0  3.0  1.0  2.0  1.0  NaN\n",
       "C  2.0  NaN  1.0  3.0  NaN  4.0  5.0  3.0"
      ]
     },
     "execution_count": 6,
     "metadata": {},
     "output_type": "execute_result"
    }
   ],
   "source": [
    "utilityFrameO = pd.DataFrame(utilityMatrix, columns=items, index=users)\n",
    "utilityFrame = utilityFrameO.copy()\n",
    "utilityFrame"
   ]
  },
  {
   "cell_type": "markdown",
   "metadata": {},
   "source": [
    "#### (a) Treating the utility matrix as a boolean, compute the Jaccard distance between each pair of users."
   ]
  },
  {
   "cell_type": "code",
   "execution_count": 7,
   "metadata": {},
   "outputs": [
    {
     "data": {
      "text/html": [
       "<div>\n",
       "<style scoped>\n",
       "    .dataframe tbody tr th:only-of-type {\n",
       "        vertical-align: middle;\n",
       "    }\n",
       "\n",
       "    .dataframe tbody tr th {\n",
       "        vertical-align: top;\n",
       "    }\n",
       "\n",
       "    .dataframe thead th {\n",
       "        text-align: right;\n",
       "    }\n",
       "</style>\n",
       "<table border=\"1\" class=\"dataframe\">\n",
       "  <thead>\n",
       "    <tr style=\"text-align: right;\">\n",
       "      <th></th>\n",
       "      <th>a</th>\n",
       "      <th>b</th>\n",
       "      <th>c</th>\n",
       "      <th>d</th>\n",
       "      <th>e</th>\n",
       "      <th>f</th>\n",
       "      <th>g</th>\n",
       "      <th>h</th>\n",
       "    </tr>\n",
       "  </thead>\n",
       "  <tbody>\n",
       "    <tr>\n",
       "      <th>A</th>\n",
       "      <td>0</td>\n",
       "      <td>0</td>\n",
       "      <td>1</td>\n",
       "      <td>0</td>\n",
       "      <td>0</td>\n",
       "      <td>1</td>\n",
       "      <td>0</td>\n",
       "      <td>0</td>\n",
       "    </tr>\n",
       "    <tr>\n",
       "      <th>B</th>\n",
       "      <td>1</td>\n",
       "      <td>0</td>\n",
       "      <td>0</td>\n",
       "      <td>0</td>\n",
       "      <td>0</td>\n",
       "      <td>0</td>\n",
       "      <td>0</td>\n",
       "      <td>1</td>\n",
       "    </tr>\n",
       "    <tr>\n",
       "      <th>C</th>\n",
       "      <td>0</td>\n",
       "      <td>1</td>\n",
       "      <td>0</td>\n",
       "      <td>0</td>\n",
       "      <td>1</td>\n",
       "      <td>0</td>\n",
       "      <td>0</td>\n",
       "      <td>0</td>\n",
       "    </tr>\n",
       "  </tbody>\n",
       "</table>\n",
       "</div>"
      ],
      "text/plain": [
       "   a  b  c  d  e  f  g  h\n",
       "A  0  0  1  0  0  1  0  0\n",
       "B  1  0  0  0  0  0  0  1\n",
       "C  0  1  0  0  1  0  0  0"
      ]
     },
     "execution_count": 7,
     "metadata": {},
     "output_type": "execute_result"
    }
   ],
   "source": [
    "binaryFrame = pd.DataFrame((np.isnan(utilityMatrix)).astype(int), columns=items, index=users)\n",
    "binaryFrame"
   ]
  },
  {
   "cell_type": "code",
   "execution_count": 8,
   "metadata": {},
   "outputs": [],
   "source": [
    "def JaccardDistance(v1, v2):\n",
    "    return 1 - (np.sum(np.abs(v1 - v2)) / len(v1))"
   ]
  },
  {
   "cell_type": "code",
   "execution_count": 9,
   "metadata": {},
   "outputs": [
    {
     "name": "stdout",
     "output_type": "stream",
     "text": [
      "A,B Jaccard distance: 0.5\n",
      "A,C Jaccard distance: 0.5\n",
      "B,C Jaccard distance: 0.5\n"
     ]
    }
   ],
   "source": [
    "for userPair in combinations(users, 2):\n",
    "    print(userPair[0] + ',' + userPair[1] + ' Jaccard distance: ' + str(JaccardDistance(binaryFrame.loc[userPair[0]], binaryFrame.loc[userPair[1]])))"
   ]
  },
  {
   "cell_type": "markdown",
   "metadata": {},
   "source": [
    "#### (b) Repeat Part (a), but use the cosine distance."
   ]
  },
  {
   "cell_type": "code",
   "execution_count": 10,
   "metadata": {},
   "outputs": [],
   "source": [
    "def CosineDistance(v1, v2):\n",
    "    dotProduct = np.dot(v1, v2)\n",
    "    v1Norm = np.linalg.norm(v1)\n",
    "    v2Norm = np.linalg.norm(v2)\n",
    "    return dotProduct / (v1Norm * v2Norm)"
   ]
  },
  {
   "cell_type": "code",
   "execution_count": 11,
   "metadata": {},
   "outputs": [
    {
     "name": "stdout",
     "output_type": "stream",
     "text": [
      "A,B Cosine Distance: 0.6010407640085653\n",
      "A,C Cosine Distance: 0.6149186938124421\n",
      "B,C Cosine Distance: 0.5138701197773616\n"
     ]
    }
   ],
   "source": [
    "for userPair in combinations(users, 2):\n",
    "    a = utilityFrame.loc[userPair[0]]\n",
    "    b = utilityFrame.loc[userPair[1]]\n",
    "    a[np.isnan(a)] = 0\n",
    "    b[np.isnan(b)] = 0\n",
    "    print(userPair[0] + ',' + userPair[1] + ' Cosine Distance: ' + str(CosineDistance(a,b)))"
   ]
  },
  {
   "cell_type": "markdown",
   "metadata": {},
   "source": [
    "#### (c) Treat ratings of 3, 4, and 5 as 1 and 1, 2, and blank as 0. Compute the following from the data of this matrix."
   ]
  },
  {
   "cell_type": "code",
   "execution_count": 12,
   "metadata": {},
   "outputs": [
    {
     "data": {
      "text/html": [
       "<div>\n",
       "<style scoped>\n",
       "    .dataframe tbody tr th:only-of-type {\n",
       "        vertical-align: middle;\n",
       "    }\n",
       "\n",
       "    .dataframe tbody tr th {\n",
       "        vertical-align: top;\n",
       "    }\n",
       "\n",
       "    .dataframe thead th {\n",
       "        text-align: right;\n",
       "    }\n",
       "</style>\n",
       "<table border=\"1\" class=\"dataframe\">\n",
       "  <thead>\n",
       "    <tr style=\"text-align: right;\">\n",
       "      <th></th>\n",
       "      <th>a</th>\n",
       "      <th>b</th>\n",
       "      <th>c</th>\n",
       "      <th>d</th>\n",
       "      <th>e</th>\n",
       "      <th>f</th>\n",
       "      <th>g</th>\n",
       "      <th>h</th>\n",
       "    </tr>\n",
       "  </thead>\n",
       "  <tbody>\n",
       "    <tr>\n",
       "      <th>A</th>\n",
       "      <td>1.0</td>\n",
       "      <td>1.0</td>\n",
       "      <td>0.0</td>\n",
       "      <td>1.0</td>\n",
       "      <td>0.0</td>\n",
       "      <td>0.0</td>\n",
       "      <td>1.0</td>\n",
       "      <td>0.0</td>\n",
       "    </tr>\n",
       "    <tr>\n",
       "      <th>B</th>\n",
       "      <td>0.0</td>\n",
       "      <td>1.0</td>\n",
       "      <td>1.0</td>\n",
       "      <td>1.0</td>\n",
       "      <td>0.0</td>\n",
       "      <td>0.0</td>\n",
       "      <td>0.0</td>\n",
       "      <td>0.0</td>\n",
       "    </tr>\n",
       "    <tr>\n",
       "      <th>C</th>\n",
       "      <td>0.0</td>\n",
       "      <td>0.0</td>\n",
       "      <td>0.0</td>\n",
       "      <td>1.0</td>\n",
       "      <td>0.0</td>\n",
       "      <td>1.0</td>\n",
       "      <td>1.0</td>\n",
       "      <td>1.0</td>\n",
       "    </tr>\n",
       "  </tbody>\n",
       "</table>\n",
       "</div>"
      ],
      "text/plain": [
       "     a    b    c    d    e    f    g    h\n",
       "A  1.0  1.0  0.0  1.0  0.0  0.0  1.0  0.0\n",
       "B  0.0  1.0  1.0  1.0  0.0  0.0  0.0  0.0\n",
       "C  0.0  0.0  0.0  1.0  0.0  1.0  1.0  1.0"
      ]
     },
     "execution_count": 12,
     "metadata": {},
     "output_type": "execute_result"
    }
   ],
   "source": [
    "alteredFrame = utilityFrame.copy()\n",
    "alteredFrame[alteredFrame <= 2] = 0\n",
    "alteredFrame[alteredFrame > 2] = 1\n",
    "alteredFrame"
   ]
  },
  {
   "cell_type": "code",
   "execution_count": 13,
   "metadata": {},
   "outputs": [
    {
     "name": "stdout",
     "output_type": "stream",
     "text": [
      "A,B Jaccard distance: 0.625\n",
      "A,C Jaccard distance: 0.5\n",
      "B,C Jaccard distance: 0.375\n"
     ]
    }
   ],
   "source": [
    "for userPair in combinations(users, 2):\n",
    "    print(userPair[0] + ',' + userPair[1] + ' Jaccard distance: ' + str(JaccardDistance(alteredFrame.loc[userPair[0]], alteredFrame.loc[userPair[1]])))"
   ]
  },
  {
   "cell_type": "markdown",
   "metadata": {},
   "source": [
    "#### (d) Repeat Part (c), but use the consine distance."
   ]
  },
  {
   "cell_type": "code",
   "execution_count": 14,
   "metadata": {},
   "outputs": [
    {
     "name": "stdout",
     "output_type": "stream",
     "text": [
      "A,B Cosine distance: 0.625\n",
      "A,C Cosine distance: 0.5\n",
      "B,C Cosine distance: 0.375\n"
     ]
    }
   ],
   "source": [
    "for userPair in combinations(users, 2):\n",
    "    a = alteredFrame.loc[userPair[0]]\n",
    "    b = alteredFrame.loc[userPair[1]]\n",
    "    a[np.isnan(a)] = 0\n",
    "    b[np.isnan(b)] = 0\n",
    "    print(userPair[0] + ',' + userPair[1] + ' Cosine distance: ' + str(JaccardDistance(a, b)))"
   ]
  },
  {
   "cell_type": "markdown",
   "metadata": {},
   "source": [
    "#### (e) Normalize the matrix by subtracting from each nonblank entry the average value of its user."
   ]
  },
  {
   "cell_type": "code",
   "execution_count": 15,
   "metadata": {
    "scrolled": true
   },
   "outputs": [
    {
     "data": {
      "text/html": [
       "<div>\n",
       "<style scoped>\n",
       "    .dataframe tbody tr th:only-of-type {\n",
       "        vertical-align: middle;\n",
       "    }\n",
       "\n",
       "    .dataframe tbody tr th {\n",
       "        vertical-align: top;\n",
       "    }\n",
       "\n",
       "    .dataframe thead th {\n",
       "        text-align: right;\n",
       "    }\n",
       "</style>\n",
       "<table border=\"1\" class=\"dataframe\">\n",
       "  <thead>\n",
       "    <tr style=\"text-align: right;\">\n",
       "      <th></th>\n",
       "      <th>a</th>\n",
       "      <th>b</th>\n",
       "      <th>c</th>\n",
       "      <th>d</th>\n",
       "      <th>e</th>\n",
       "      <th>f</th>\n",
       "      <th>g</th>\n",
       "      <th>h</th>\n",
       "    </tr>\n",
       "  </thead>\n",
       "  <tbody>\n",
       "    <tr>\n",
       "      <th>A</th>\n",
       "      <td>0.666667</td>\n",
       "      <td>1.666667</td>\n",
       "      <td>NaN</td>\n",
       "      <td>1.666667</td>\n",
       "      <td>-2.333333</td>\n",
       "      <td>NaN</td>\n",
       "      <td>-0.333333</td>\n",
       "      <td>-1.333333</td>\n",
       "    </tr>\n",
       "    <tr>\n",
       "      <th>B</th>\n",
       "      <td>NaN</td>\n",
       "      <td>0.666667</td>\n",
       "      <td>1.666667</td>\n",
       "      <td>0.666667</td>\n",
       "      <td>-1.333333</td>\n",
       "      <td>-0.333333</td>\n",
       "      <td>-1.333333</td>\n",
       "      <td>NaN</td>\n",
       "    </tr>\n",
       "    <tr>\n",
       "      <th>C</th>\n",
       "      <td>-1.000000</td>\n",
       "      <td>NaN</td>\n",
       "      <td>-2.000000</td>\n",
       "      <td>0.000000</td>\n",
       "      <td>NaN</td>\n",
       "      <td>1.000000</td>\n",
       "      <td>2.000000</td>\n",
       "      <td>0.000000</td>\n",
       "    </tr>\n",
       "  </tbody>\n",
       "</table>\n",
       "</div>"
      ],
      "text/plain": [
       "          a         b         c         d         e         f         g  \\\n",
       "A  0.666667  1.666667       NaN  1.666667 -2.333333       NaN -0.333333   \n",
       "B       NaN  0.666667  1.666667  0.666667 -1.333333 -0.333333 -1.333333   \n",
       "C -1.000000       NaN -2.000000  0.000000       NaN  1.000000  2.000000   \n",
       "\n",
       "          h  \n",
       "A -1.333333  \n",
       "B       NaN  \n",
       "C  0.000000  "
      ]
     },
     "execution_count": 15,
     "metadata": {},
     "output_type": "execute_result"
    }
   ],
   "source": [
    "normalisedMatrix = np.apply_along_axis(lambda x: x - statistics.mean(x[[not bool for bool in np.isnan(x)]]), 1, utilityFrameO)\n",
    "normalisedFrame = pd.DataFrame(normalisedMatrix, columns=items, index=users)\n",
    "normalisedFrame"
   ]
  },
  {
   "cell_type": "markdown",
   "metadata": {},
   "source": [
    "#### (f) Using the normalized matrix from Part (e), compute the cosine distance between each pair of users."
   ]
  },
  {
   "cell_type": "code",
   "execution_count": 16,
   "metadata": {},
   "outputs": [
    {
     "name": "stdout",
     "output_type": "stream",
     "text": [
      "A,B Cosine distance: 0.0\n",
      "A,C Cosine distance: -0.75\n",
      "B,C Cosine distance: -0.5\n"
     ]
    }
   ],
   "source": [
    "for userPair in combinations(users, 2):\n",
    "    a = normalisedFrame.loc[userPair[0]]\n",
    "    b = normalisedFrame.loc[userPair[1]]\n",
    "    a[np.isnan(a)] = 0\n",
    "    b[np.isnan(b)] = 0\n",
    "    print(userPair[0] + ',' + userPair[1] + ' Cosine distance: ' + str(JaccardDistance(a, b)))"
   ]
  },
  {
   "cell_type": "markdown",
   "metadata": {},
   "source": [
    "### 9.3.2: In this exercise, we cluster items in the utility matrix."
   ]
  },
  {
   "cell_type": "markdown",
   "metadata": {},
   "source": [
    "#### (a) Cluster the right items hierarchically into four clusters. The following method should be used to cluster. Replace all 3's, 4's and 5's by 1 and replace 1's, 2's, and blanks by 0. Use the Jaccard distance to measure the distance between clusters of more than one element, take the distance between clusters to be the minimum distance between pairs of elements, one from each cluster."
   ]
  },
  {
   "cell_type": "code",
   "execution_count": 17,
   "metadata": {},
   "outputs": [
    {
     "data": {
      "text/html": [
       "<div>\n",
       "<style scoped>\n",
       "    .dataframe tbody tr th:only-of-type {\n",
       "        vertical-align: middle;\n",
       "    }\n",
       "\n",
       "    .dataframe tbody tr th {\n",
       "        vertical-align: top;\n",
       "    }\n",
       "\n",
       "    .dataframe thead th {\n",
       "        text-align: right;\n",
       "    }\n",
       "</style>\n",
       "<table border=\"1\" class=\"dataframe\">\n",
       "  <thead>\n",
       "    <tr style=\"text-align: right;\">\n",
       "      <th></th>\n",
       "      <th>a</th>\n",
       "      <th>b</th>\n",
       "      <th>c</th>\n",
       "      <th>d</th>\n",
       "      <th>e</th>\n",
       "      <th>f</th>\n",
       "      <th>g</th>\n",
       "      <th>h</th>\n",
       "    </tr>\n",
       "  </thead>\n",
       "  <tbody>\n",
       "    <tr>\n",
       "      <th>A</th>\n",
       "      <td>1.0</td>\n",
       "      <td>1.0</td>\n",
       "      <td>0.0</td>\n",
       "      <td>1.0</td>\n",
       "      <td>0.0</td>\n",
       "      <td>0.0</td>\n",
       "      <td>1.0</td>\n",
       "      <td>0.0</td>\n",
       "    </tr>\n",
       "    <tr>\n",
       "      <th>B</th>\n",
       "      <td>0.0</td>\n",
       "      <td>1.0</td>\n",
       "      <td>1.0</td>\n",
       "      <td>1.0</td>\n",
       "      <td>0.0</td>\n",
       "      <td>0.0</td>\n",
       "      <td>0.0</td>\n",
       "      <td>0.0</td>\n",
       "    </tr>\n",
       "    <tr>\n",
       "      <th>C</th>\n",
       "      <td>0.0</td>\n",
       "      <td>0.0</td>\n",
       "      <td>0.0</td>\n",
       "      <td>1.0</td>\n",
       "      <td>0.0</td>\n",
       "      <td>1.0</td>\n",
       "      <td>1.0</td>\n",
       "      <td>1.0</td>\n",
       "    </tr>\n",
       "  </tbody>\n",
       "</table>\n",
       "</div>"
      ],
      "text/plain": [
       "     a    b    c    d    e    f    g    h\n",
       "A  1.0  1.0  0.0  1.0  0.0  0.0  1.0  0.0\n",
       "B  0.0  1.0  1.0  1.0  0.0  0.0  0.0  0.0\n",
       "C  0.0  0.0  0.0  1.0  0.0  1.0  1.0  1.0"
      ]
     },
     "execution_count": 17,
     "metadata": {},
     "output_type": "execute_result"
    }
   ],
   "source": [
    "numOfClusters = 4\n",
    "clusterFrame = alteredFrame.copy()\n",
    "clusterItems = items.copy()\n",
    "clusterFrame"
   ]
  },
  {
   "cell_type": "code",
   "execution_count": 18,
   "metadata": {},
   "outputs": [],
   "source": [
    "def CalculateProximityMatrix(proxItems, proxFrame):\n",
    "    proximityMatrix = np.empty((len(proxItems), len(proxItems)), dtype = np.float)\n",
    "    for itemInd1 in range(len(proxItems)):\n",
    "        for itemInd2 in range(itemInd1, len(proxItems)):\n",
    "            distance = JaccardDistance(proxFrame.loc[:,proxItems[itemInd1]], proxFrame.loc[:,proxItems[itemInd2]])\n",
    "            if itemInd1 == itemInd2:\n",
    "                distance = None\n",
    "            proximityMatrix[itemInd1, itemInd2] = distance\n",
    "            proximityMatrix[itemInd2, itemInd1] = distance\n",
    "    return 1 - proximityMatrix"
   ]
  },
  {
   "cell_type": "code",
   "execution_count": 19,
   "metadata": {},
   "outputs": [],
   "source": [
    "while len(clusterFrame.columns) > numOfClusters:\n",
    "    proximityMatrix = CalculateProximityMatrix(clusterItems, clusterFrame)\n",
    "    minIndexes = np.unravel_index(np.nanargmin(proximityMatrix), proximityMatrix.shape)\n",
    "    item1 = clusterItems[minIndexes[0]]\n",
    "    item2 = clusterItems[minIndexes[1]]\n",
    "    clusterFrame[item1+item2] = pd.concat([clusterFrame.loc[:,item1], clusterFrame.loc[:,item2]], axis=1).mean(axis=1)\n",
    "    clusterFrame = clusterFrame.drop(item1, 1)\n",
    "    clusterFrame = clusterFrame.drop(item2, 1)\n",
    "    clusterItems.append(item1+item2)\n",
    "    clusterItems.remove(item1)\n",
    "    clusterItems.remove(item2)"
   ]
  },
  {
   "cell_type": "markdown",
   "metadata": {},
   "source": [
    "#### (b) Then, construct from the original matrix a new matrix whose rows correspond to users, as before, and whose columns correspond to clusters. Compute the entry of a user and cluster of items by averaging the nonblank entries for that user and all the items in the cluster."
   ]
  },
  {
   "cell_type": "code",
   "execution_count": 20,
   "metadata": {},
   "outputs": [
    {
     "data": {
      "text/html": [
       "<div>\n",
       "<style scoped>\n",
       "    .dataframe tbody tr th:only-of-type {\n",
       "        vertical-align: middle;\n",
       "    }\n",
       "\n",
       "    .dataframe tbody tr th {\n",
       "        vertical-align: top;\n",
       "    }\n",
       "\n",
       "    .dataframe thead th {\n",
       "        text-align: right;\n",
       "    }\n",
       "</style>\n",
       "<table border=\"1\" class=\"dataframe\">\n",
       "  <thead>\n",
       "    <tr style=\"text-align: right;\">\n",
       "      <th></th>\n",
       "      <th>fh</th>\n",
       "      <th>ab</th>\n",
       "      <th>ce</th>\n",
       "      <th>dg</th>\n",
       "    </tr>\n",
       "  </thead>\n",
       "  <tbody>\n",
       "    <tr>\n",
       "      <th>A</th>\n",
       "      <td>0.0</td>\n",
       "      <td>1.0</td>\n",
       "      <td>0.0</td>\n",
       "      <td>1.0</td>\n",
       "    </tr>\n",
       "    <tr>\n",
       "      <th>B</th>\n",
       "      <td>0.0</td>\n",
       "      <td>0.5</td>\n",
       "      <td>0.5</td>\n",
       "      <td>0.5</td>\n",
       "    </tr>\n",
       "    <tr>\n",
       "      <th>C</th>\n",
       "      <td>1.0</td>\n",
       "      <td>0.0</td>\n",
       "      <td>0.0</td>\n",
       "      <td>1.0</td>\n",
       "    </tr>\n",
       "  </tbody>\n",
       "</table>\n",
       "</div>"
      ],
      "text/plain": [
       "    fh   ab   ce   dg\n",
       "A  0.0  1.0  0.0  1.0\n",
       "B  0.0  0.5  0.5  0.5\n",
       "C  1.0  0.0  0.0  1.0"
      ]
     },
     "execution_count": 20,
     "metadata": {},
     "output_type": "execute_result"
    }
   ],
   "source": [
    "clusterFrame"
   ]
  },
  {
   "cell_type": "markdown",
   "metadata": {},
   "source": [
    "#### (d) Compute the cosine distance between each pair of users, according to the matrix from Part (b)"
   ]
  },
  {
   "cell_type": "code",
   "execution_count": 21,
   "metadata": {},
   "outputs": [
    {
     "name": "stdout",
     "output_type": "stream",
     "text": [
      "A,B Cosine distance: 0.625\n",
      "A,C Cosine distance: 0.5\n",
      "B,C Cosine distance: 0.375\n"
     ]
    }
   ],
   "source": [
    "for userPair in combinations(users, 2):\n",
    "    a = clusterFrame.loc[userPair[0]]\n",
    "    b = clusterFrame.loc[userPair[1]]\n",
    "    a[np.isnan(a)] = 0\n",
    "    b[np.isnan(b)] = 0\n",
    "    print(userPair[0] + ',' + userPair[1] + ' Cosine distance: ' + str(JaccardDistance(a, b)))"
   ]
  },
  {
   "cell_type": "markdown",
   "metadata": {},
   "source": [
    "## 9.4 Dimensionality Reduction"
   ]
  },
  {
   "cell_type": "markdown",
   "metadata": {},
   "source": [
    "### 9.3.1: Starting with the decomposition of the matrix below, we may choose any of the 20 entries in U or V to optimise first. Perform this first optimisation step."
   ]
  },
  {
   "cell_type": "code",
   "execution_count": 63,
   "metadata": {},
   "outputs": [
    {
     "data": {
      "text/plain": [
       "array([[ 5.,  2.,  4.,  4.,  3.],\n",
       "       [ 3.,  1.,  2.,  4.,  1.],\n",
       "       [ 2., nan,  3.,  1.,  4.],\n",
       "       [ 2.,  5.,  4.,  3.,  5.],\n",
       "       [ 4.,  4.,  5.,  4., nan]])"
      ]
     },
     "execution_count": 63,
     "metadata": {},
     "output_type": "execute_result"
    }
   ],
   "source": [
    "U = np.ones(shape = (5, 2), dtype = np.float)\n",
    "V = np.ones(shape = (2, 5), dtype = np.float)\n",
    "M = np.array([[5, 2, 4, 4, 3],\n",
    "              [3, 1, 2, 4, 1],\n",
    "              [2, None, 3, 1, 4],\n",
    "              [2, 5, 4, 3, 5],\n",
    "              [4, 4, 5, 4, None]], dtype = np.float)\n",
    "M"
   ]
  },
  {
   "cell_type": "markdown",
   "metadata": {},
   "source": [
    "#### (a) on u32"
   ]
  },
  {
   "cell_type": "code",
   "execution_count": 64,
   "metadata": {},
   "outputs": [],
   "source": [
    "def SolveForX(r, s):\n",
    "    Vs2 = np.sum(np.square(V[s,]))\n",
    "    diff = np.nansum(np.multiply(V[s,], (M[r,] - (U[r,-s] * V[-s,]))))\n",
    "    return diff/Vs2"
   ]
  },
  {
   "cell_type": "code",
   "execution_count": 65,
   "metadata": {},
   "outputs": [
    {
     "data": {
      "text/plain": [
       "1.2"
      ]
     },
     "execution_count": 65,
     "metadata": {},
     "output_type": "execute_result"
    }
   ],
   "source": [
    "SolveForX(2, 1)"
   ]
  },
  {
   "cell_type": "markdown",
   "metadata": {},
   "source": [
    "#### (b) on v41"
   ]
  },
  {
   "cell_type": "code",
   "execution_count": 66,
   "metadata": {},
   "outputs": [],
   "source": [
    "def SolveForY(r, s):\n",
    "    Ur2 = np.sum(np.square(U[:,r]))\n",
    "    diff = np.nansum(np.multiply(U[:,r], (M[:,s] - (U[:,-r] * V[-r,s]))))\n",
    "    return diff/Ur2"
   ]
  },
  {
   "cell_type": "code",
   "execution_count": 68,
   "metadata": {},
   "outputs": [
    {
     "data": {
      "text/plain": [
       "2.2"
      ]
     },
     "execution_count": 68,
     "metadata": {},
     "output_type": "execute_result"
    }
   ],
   "source": [
    "SolveForY(0, 3)"
   ]
  },
  {
   "cell_type": "markdown",
   "metadata": {},
   "source": [
    "### 9.4.2 If we wish to start out with all U and V entries set to the same value, what value minimizes the RMSE for the matrix M?"
   ]
  },
  {
   "cell_type": "code",
   "execution_count": 69,
   "metadata": {},
   "outputs": [],
   "source": [
    "def RMSE(trueM, testM):\n",
    "    return np.sqrt(np.nanmean(np.square(trueM - testM)))"
   ]
  },
  {
   "cell_type": "code",
   "execution_count": 70,
   "metadata": {},
   "outputs": [],
   "source": [
    "def SecondDerivative(x):\n",
    "    d2 = np.nansum(M) - (4 * x)\n",
    "    if d2 > 0:\n",
    "        print('Min')\n",
    "    if d2 < 0:\n",
    "        print('Max')"
   ]
  },
  {
   "cell_type": "markdown",
   "metadata": {},
   "source": [
    "Original RMSE"
   ]
  },
  {
   "cell_type": "code",
   "execution_count": 71,
   "metadata": {},
   "outputs": [
    {
     "data": {
      "text/plain": [
       "1.805787796286538"
      ]
     },
     "execution_count": 71,
     "metadata": {},
     "output_type": "execute_result"
    }
   ],
   "source": [
    "RMSE(M, np.matmul(U,V))"
   ]
  },
  {
   "cell_type": "markdown",
   "metadata": {},
   "source": [
    "Using 2x<sup>2</sup> as P<sub>ij</sub> and solving for x, we get the following:"
   ]
  },
  {
   "cell_type": "code",
   "execution_count": 72,
   "metadata": {},
   "outputs": [
    {
     "data": {
      "text/plain": [
       "1.224744871391589"
      ]
     },
     "execution_count": 72,
     "metadata": {},
     "output_type": "execute_result"
    }
   ],
   "source": [
    "x = np.sqrt((0.5*np.nansum(M)) / (M.shape[0]*M.shape[1]))\n",
    "x"
   ]
  },
  {
   "cell_type": "code",
   "execution_count": 73,
   "metadata": {},
   "outputs": [
    {
     "name": "stdout",
     "output_type": "stream",
     "text": [
      "Min\n"
     ]
    }
   ],
   "source": [
    "SecondDerivative(x)"
   ]
  },
  {
   "cell_type": "code",
   "execution_count": 74,
   "metadata": {},
   "outputs": [
    {
     "data": {
      "text/plain": [
       "array([[3., 3., 3., 3., 3.],\n",
       "       [3., 3., 3., 3., 3.],\n",
       "       [3., 3., 3., 3., 3.],\n",
       "       [3., 3., 3., 3., 3.],\n",
       "       [3., 3., 3., 3., 3.]])"
      ]
     },
     "execution_count": 74,
     "metadata": {},
     "output_type": "execute_result"
    }
   ],
   "source": [
    "UV = np.full((5,5), 2 * math.pow(x,2), dtype = np.float)\n",
    "UV"
   ]
  },
  {
   "cell_type": "code",
   "execution_count": 75,
   "metadata": {},
   "outputs": [
    {
     "data": {
      "text/plain": [
       "1.318760946791574"
      ]
     },
     "execution_count": 75,
     "metadata": {},
     "output_type": "execute_result"
    }
   ],
   "source": [
    "RMSE(M, UV)"
   ]
  },
  {
   "cell_type": "markdown",
   "metadata": {},
   "source": [
    "### 9.4.3: Starting with U and V as below"
   ]
  },
  {
   "cell_type": "code",
   "execution_count": 76,
   "metadata": {},
   "outputs": [],
   "source": [
    "U = np.array([[2.6, 1, 1.76, 1, 1],\n",
    "              [1, 1, 1, 1, 1]], dtype = np.float).T\n",
    "V = np.array([[1.617, 1, 1, 1, 1],\n",
    "              [1, 1, 1, 1, 1]], dtype = np.float)"
   ]
  },
  {
   "cell_type": "markdown",
   "metadata": {},
   "source": [
    "#### (a) Reconsider the value of u<sub>11</sub>. Find its new best value given the changes that have been made so far."
   ]
  },
  {
   "cell_type": "code",
   "execution_count": 79,
   "metadata": {},
   "outputs": [
    {
     "data": {
      "text/plain": [
       "0.5876026219826811"
      ]
     },
     "execution_count": 79,
     "metadata": {},
     "output_type": "execute_result"
    }
   ],
   "source": [
    "newX = SolveForX(0,0)\n",
    "newX"
   ]
  },
  {
   "cell_type": "code",
   "execution_count": 80,
   "metadata": {},
   "outputs": [],
   "source": [
    "U[0,0] = newX"
   ]
  },
  {
   "cell_type": "markdown",
   "metadata": {},
   "source": [
    "#### (b) Then choose the best value for u<sub>52</sub>"
   ]
  },
  {
   "cell_type": "code",
   "execution_count": 81,
   "metadata": {},
   "outputs": [
    {
     "data": {
      "text/plain": [
       "2.6"
      ]
     },
     "execution_count": 81,
     "metadata": {},
     "output_type": "execute_result"
    }
   ],
   "source": [
    "newX = SolveForX(4,1)\n",
    "newX"
   ]
  },
  {
   "cell_type": "code",
   "execution_count": 82,
   "metadata": {},
   "outputs": [],
   "source": [
    "U[4,1] = newX"
   ]
  },
  {
   "cell_type": "markdown",
   "metadata": {},
   "source": [
    "#### (c) Then choose the best value for v<sub>22</sub>"
   ]
  },
  {
   "cell_type": "code",
   "execution_count": 83,
   "metadata": {},
   "outputs": [
    {
     "data": {
      "text/plain": [
       "0.8029739776951672"
      ]
     },
     "execution_count": 83,
     "metadata": {},
     "output_type": "execute_result"
    }
   ],
   "source": [
    "newY = SolveForY(1,1)\n",
    "newY"
   ]
  },
  {
   "cell_type": "code",
   "execution_count": 84,
   "metadata": {},
   "outputs": [],
   "source": [
    "V[1,1] = newY"
   ]
  },
  {
   "cell_type": "markdown",
   "metadata": {},
   "source": [
    "### 9.4.5: Normalise the matrix M of our running example by:"
   ]
  },
  {
   "cell_type": "code",
   "execution_count": 85,
   "metadata": {},
   "outputs": [
    {
     "data": {
      "text/plain": [
       "array([[1.95, 1.39, 1.59, 1.59, 1.59],\n",
       "       [2.62, 1.8 , 2.  , 2.  , 2.  ],\n",
       "       [3.85, 2.56, 2.76, 2.76, 2.76],\n",
       "       [2.62, 1.8 , 2.  , 2.  , 2.  ],\n",
       "       [4.22, 3.09, 3.6 , 3.6 , 3.6 ]])"
      ]
     },
     "execution_count": 85,
     "metadata": {},
     "output_type": "execute_result"
    }
   ],
   "source": [
    "M = np.matmul(U,V)\n",
    "M"
   ]
  },
  {
   "cell_type": "markdown",
   "metadata": {},
   "source": [
    "#### (a) First subtracting from each element the average of its row, and then subtracting from each element the average of its (modified) column."
   ]
  },
  {
   "cell_type": "code",
   "execution_count": 88,
   "metadata": {},
   "outputs": [
    {
     "data": {
      "text/plain": [
       "array([[-0.25,  0.11,  0.05,  0.05,  0.05],\n",
       "       [-0.05,  0.06, -0.  , -0.  , -0.  ],\n",
       "       [ 0.33, -0.03, -0.1 , -0.1 , -0.1 ],\n",
       "       [-0.05,  0.06, -0.  , -0.  , -0.  ],\n",
       "       [ 0.02, -0.19,  0.06,  0.06,  0.06]])"
      ]
     },
     "execution_count": 88,
     "metadata": {},
     "output_type": "execute_result"
    }
   ],
   "source": [
    "normMa = np.apply_along_axis(lambda x: x - statistics.mean(x), 1, M)\n",
    "normMa = np.apply_along_axis(lambda x: x - statistics.mean(x), 0, normMa)\n",
    "normMa"
   ]
  },
  {
   "cell_type": "markdown",
   "metadata": {},
   "source": [
    "#### (a) First subtracting from each element the average of its column, and then subtracting from each element the average of its (modified) row."
   ]
  },
  {
   "cell_type": "code",
   "execution_count": 89,
   "metadata": {},
   "outputs": [
    {
     "data": {
      "text/plain": [
       "array([[-0.25,  0.11,  0.05,  0.05,  0.05],\n",
       "       [-0.05,  0.06, -0.  , -0.  , -0.  ],\n",
       "       [ 0.33, -0.03, -0.1 , -0.1 , -0.1 ],\n",
       "       [-0.05,  0.06, -0.  , -0.  , -0.  ],\n",
       "       [ 0.02, -0.19,  0.06,  0.06,  0.06]])"
      ]
     },
     "execution_count": 89,
     "metadata": {},
     "output_type": "execute_result"
    }
   ],
   "source": [
    "normMb = np.apply_along_axis(lambda x: x - statistics.mean(x), 0, M)\n",
    "normMb = np.apply_along_axis(lambda x: x - statistics.mean(x), 1, normMb)\n",
    "normMb"
   ]
  },
  {
   "cell_type": "markdown",
   "metadata": {},
   "source": [
    "Are there any differences in the results of (a) and (b)?"
   ]
  },
  {
   "cell_type": "code",
   "execution_count": 96,
   "metadata": {},
   "outputs": [
    {
     "data": {
      "text/plain": [
       "True"
      ]
     },
     "execution_count": 96,
     "metadata": {},
     "output_type": "execute_result"
    }
   ],
   "source": [
    "np.allclose(normMa,normMb)"
   ]
  },
  {
   "cell_type": "code",
   "execution_count": 97,
   "metadata": {},
   "outputs": [
    {
     "data": {
      "text/plain": [
       "False"
      ]
     },
     "execution_count": 97,
     "metadata": {},
     "output_type": "execute_result"
    }
   ],
   "source": [
    "np.array_equal(normMa, normMb)"
   ]
  },
  {
   "cell_type": "code",
   "execution_count": 102,
   "metadata": {},
   "outputs": [
    {
     "data": {
      "text/plain": [
       "array([[-1.11e-16, -1.67e-16, -8.33e-17, -8.33e-17, -8.33e-17],\n",
       "       [-5.55e-17, -1.11e-16, -2.78e-17, -2.78e-17, -2.78e-17],\n",
       "       [ 1.11e-16,  5.55e-17,  1.39e-16,  1.39e-16,  1.39e-16],\n",
       "       [-5.55e-17, -1.11e-16, -2.78e-17, -2.78e-17, -2.78e-17],\n",
       "       [ 1.11e-16,  5.55e-17,  1.39e-16,  1.39e-16,  1.39e-16]])"
      ]
     },
     "execution_count": 102,
     "metadata": {},
     "output_type": "execute_result"
    }
   ],
   "source": [
    "normMa - normMb"
   ]
  },
  {
   "cell_type": "markdown",
   "metadata": {},
   "source": [
    "Close enough :)"
   ]
  },
  {
   "cell_type": "code",
   "execution_count": null,
   "metadata": {},
   "outputs": [],
   "source": []
  }
 ],
 "metadata": {
  "kernelspec": {
   "display_name": "Python 3",
   "language": "python",
   "name": "python3"
  },
  "language_info": {
   "codemirror_mode": {
    "name": "ipython",
    "version": 3
   },
   "file_extension": ".py",
   "mimetype": "text/x-python",
   "name": "python",
   "nbconvert_exporter": "python",
   "pygments_lexer": "ipython3",
   "version": "3.7.4"
  }
 },
 "nbformat": 4,
 "nbformat_minor": 2
}
